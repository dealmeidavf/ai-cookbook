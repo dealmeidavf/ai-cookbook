{
 "cells": [
  {
   "cell_type": "markdown",
   "id": "53d2945e-5133-4b67-8fd7-ec46a9d13d2f",
   "metadata": {},
   "source": [
    "# Setup LLM Client"
   ]
  },
  {
   "cell_type": "code",
   "execution_count": 1,
   "id": "821cc959-5beb-4d12-b789-2a159b81f685",
   "metadata": {},
   "outputs": [],
   "source": [
    "import os\n",
    "from dotenv import load_dotenv\n",
    "_=load_dotenv()"
   ]
  },
  {
   "cell_type": "code",
   "execution_count": 2,
   "id": "8351d1c0-f4c5-4442-905b-db7fc0b2fbcf",
   "metadata": {},
   "outputs": [],
   "source": [
    "from openai import OpenAI\n",
    "client = OpenAI()\n",
    "model = 'gpt-4o-mini'"
   ]
  },
  {
   "cell_type": "code",
   "execution_count": 3,
   "id": "93fca252-963b-4369-93ab-c6841f0e4be0",
   "metadata": {},
   "outputs": [],
   "source": [
    "from pprint import pprint"
   ]
  },
  {
   "cell_type": "markdown",
   "id": "2e24cb59-e1ed-4495-865a-3b0516314baa",
   "metadata": {},
   "source": [
    "# Retrieval of Information from a Knowledge Base\n",
    "\n",
    "Retrieval is another element for AI systems."
   ]
  },
  {
   "cell_type": "code",
   "execution_count": 4,
   "id": "ea258eb0-15bd-4968-94bb-91cef6450260",
   "metadata": {},
   "outputs": [],
   "source": [
    "verbose = False # make it true for printouts\n",
    "llm_temperature = 0.1 # 0->1 for creative output"
   ]
  },
  {
   "cell_type": "markdown",
   "id": "55d1a062-9ff4-4193-870f-ec6de15783f4",
   "metadata": {},
   "source": [
    "## User's Question\n",
    "\n",
    "Use any of the questions below or add a new one."
   ]
  },
  {
   "cell_type": "code",
   "execution_count": 5,
   "id": "112d96d0-69cd-45c1-9f60-9290c6e190e7",
   "metadata": {},
   "outputs": [],
   "source": [
    "#user_question = 'What about the return policy?'\n",
    "user_question = 'How about payment method or type?'\n",
    "#user_question = 'How about shipping?'\n",
    "\n",
    "#user_question = 'How about walking a dog in Tokyo? Be succint'\n",
    "#user_question = 'How about dogs and the weather in Tokyo? Be succint'"
   ]
  },
  {
   "cell_type": "markdown",
   "id": "17f1e0c9-387c-4ba5-bda7-567843365fcf",
   "metadata": {},
   "source": [
    "## Knowledge data base\n",
    "Create a knowledge base for retrieval when requested."
   ]
  },
  {
   "cell_type": "code",
   "execution_count": 6,
   "id": "6f4af145-2915-4ecb-acfc-4a9e955efbb4",
   "metadata": {},
   "outputs": [],
   "source": [
    "import json\n",
    "\n",
    "def get_knowledge(llm_question: str):\n",
    "    \"\"\"\n",
    "    The LLM question will be used to return content.\n",
    "    \"\"\"\n",
    "    with open(\"kb.json\", \"r\") as f:\n",
    "        return json.load(f)"
   ]
  },
  {
   "cell_type": "code",
   "execution_count": 7,
   "id": "e489d833-a4fe-42a1-a535-3426f752ee63",
   "metadata": {},
   "outputs": [],
   "source": [
    "from pprint import pprint\n",
    "if verbose:\n",
    "    print(\"call get_knowledge('')\")\n",
    "    print(type(get_knowledge('')))\n",
    "    pprint(get_knowledge(''))"
   ]
  },
  {
   "cell_type": "markdown",
   "id": "2182104f-4ae3-4748-ad8e-ce447331a0e0",
   "metadata": {},
   "source": [
    "## OpenAI Tool Function\n",
    "\n",
    "The mechanism to let the LLM know there exists an additional knowlege base."
   ]
  },
  {
   "cell_type": "code",
   "execution_count": 8,
   "id": "36bb3e82-cf60-4941-b2ca-10d47dd86c93",
   "metadata": {},
   "outputs": [],
   "source": [
    "'''\n",
    "docs: https://platform.openai.com/docs/guides/function-calling\n",
    "'''\n",
    "tools = [\n",
    "    {\n",
    "        \"type\": \"function\",\n",
    "        \"function\": {\n",
    "            \"name\": \"get_knowledge\",\n",
    "            \"description\": \"Get knowledge to answer the user's question.\",\n",
    "            \"parameters\": {\n",
    "                \"type\": \"object\",\n",
    "                \"properties\": {\n",
    "                    \"llm_question\": {\"type\": \"string\"},\n",
    "                },\n",
    "                \"required\": [\"llm_question\"],\n",
    "                \"additionalProperties\": False,\n",
    "            },\n",
    "            \"strict\": True,\n",
    "        },\n",
    "    }\n",
    "]"
   ]
  },
  {
   "cell_type": "markdown",
   "id": "3539fec4-0814-4e5a-b055-76e81d3326a8",
   "metadata": {},
   "source": [
    "## Invoke the LLM with the User's Question"
   ]
  },
  {
   "cell_type": "code",
   "execution_count": 9,
   "id": "5a927971-6cea-40a4-9ead-0a7329aa0498",
   "metadata": {},
   "outputs": [],
   "source": [
    "# This gives a context for the llm assistant\n",
    "system_prompt = \"You are a helpful assistant that answers questions from the knowledge base \"+\\\n",
    "                \"about our e-commerce store but you also have general knowledge.\"\n",
    "\n",
    "messages = [\n",
    "    {\"role\": \"system\", \"content\": system_prompt},\n",
    "    {\"role\": \"user\", \"content\": user_question},\n",
    "]\n",
    "\n",
    "completion = client.chat.completions.create(\n",
    "    model=model,\n",
    "    messages=messages,\n",
    "    tools=tools,\n",
    "    temperature=0.0,\n",
    ")"
   ]
  },
  {
   "cell_type": "code",
   "execution_count": 10,
   "id": "67e36be6-06d8-47b8-b950-143a2580902d",
   "metadata": {},
   "outputs": [],
   "source": [
    "'''Inspect the response data'''\n",
    "if verbose:\n",
    "    pprint(completion.model_dump())"
   ]
  },
  {
   "cell_type": "code",
   "execution_count": 11,
   "id": "b2a651b4-547e-4235-b15a-5f67999dec6a",
   "metadata": {},
   "outputs": [],
   "source": [
    "if verbose:\n",
    "    pprint(completion.usage)"
   ]
  },
  {
   "cell_type": "code",
   "execution_count": 12,
   "id": "8a2af9d6-49fa-411e-99c4-9e6ef6d1fda3",
   "metadata": {},
   "outputs": [],
   "source": [
    "if verbose:\n",
    "    pprint(completion.choices[0].message)"
   ]
  },
  {
   "cell_type": "code",
   "execution_count": 13,
   "id": "af3d4d94-4171-4484-ab1e-d82a7e483d20",
   "metadata": {},
   "outputs": [],
   "source": [
    "if verbose:\n",
    "    if completion.choices[0].message.tool_calls:\n",
    "       pprint(completion.choices[0].message.tool_calls[0].function.arguments)"
   ]
  },
  {
   "cell_type": "code",
   "execution_count": 14,
   "id": "3c8d39cd-c349-443c-bbfb-21e295958869",
   "metadata": {},
   "outputs": [
    {
     "name": "stdout",
     "output_type": "stream",
     "text": [
      "total_tokens= 109\n"
     ]
    }
   ],
   "source": [
    " print('total_tokens=', completion.usage.total_tokens)"
   ]
  },
  {
   "cell_type": "markdown",
   "id": "8c875cd8-fdaa-4b88-94da-4a34e6eb0c0c",
   "metadata": {},
   "source": [
    "## Add Knowledge Base to Prompt"
   ]
  },
  {
   "cell_type": "code",
   "execution_count": 15,
   "id": "51d1c8d9-be7c-409d-bea9-eb0e4eff3660",
   "metadata": {},
   "outputs": [],
   "source": [
    "# Add to prompt if the tool function was activated\n",
    "if completion.choices[0].message.tool_calls:\n",
    "\n",
    "    def call_function(name, args):\n",
    "        if name == \"get_knowledge\":\n",
    "            return get_knowledge(**args)\n",
    "    \n",
    "    for i, tool_call in enumerate(completion.choices[0].message.tool_calls):\n",
    "        if verbose:\n",
    "            print('i = ', i)\n",
    "        name = tool_call.function.name\n",
    "        llm_question = json.loads(tool_call.function.arguments)\n",
    "        \n",
    "        if verbose:\n",
    "            print('llm_question =', llm_question)\n",
    "    \n",
    "        messages.append(completion.choices[0].message) # this needs to be here before the \"tool role\"\n",
    "\n",
    "        result = call_function(name, llm_question)\n",
    "        \n",
    "        messages.append(\n",
    "            {\"role\": \"tool\", \"tool_call_id\": tool_call.id, \"content\": json.dumps(result)}\n",
    "        )"
   ]
  },
  {
   "cell_type": "code",
   "execution_count": 16,
   "id": "9399bfaf-a110-41c0-9070-bf9375c55573",
   "metadata": {},
   "outputs": [],
   "source": [
    "if verbose:\n",
    "    pprint(messages)"
   ]
  },
  {
   "cell_type": "markdown",
   "id": "697be669-d516-43d7-a29b-1241189a95f1",
   "metadata": {},
   "source": [
    "## Invoke the LLM with the User's Question and Knowlege Base"
   ]
  },
  {
   "cell_type": "code",
   "execution_count": 17,
   "id": "210078b8-0422-4a6b-b57f-9929c356b072",
   "metadata": {},
   "outputs": [],
   "source": [
    "# Invoke with knowlege base only if the tool function was activated\n",
    "if completion.choices[0].message.tool_calls:\n",
    "    from pydantic import BaseModel, Field\n",
    "\n",
    "    # Desired response format\n",
    "    class Reply(BaseModel):\n",
    "        answer: str = Field(description=\"The answer to the user's question.\")\n",
    "        source: int = Field(description=\"The record id of the answer if there is one. If a record id cannot be found set the id to zero.\")\n",
    "\n",
    "    completion = client.beta.chat.completions.parse(\n",
    "        model=model,\n",
    "        messages=messages,\n",
    "        tools=tools,\n",
    "        response_format=Reply,\n",
    "        temperature=0.0,\n",
    "    )"
   ]
  },
  {
   "cell_type": "code",
   "execution_count": 18,
   "id": "d2b4e7b7-933d-475f-9a19-7c86fb6150e5",
   "metadata": {},
   "outputs": [],
   "source": [
    "if verbose:\n",
    "    pprint(completion.model_dump())"
   ]
  },
  {
   "cell_type": "code",
   "execution_count": 19,
   "id": "9ce98e79-d3d9-4a04-8364-c7e2922cf6bb",
   "metadata": {},
   "outputs": [],
   "source": [
    "if verbose:\n",
    "    pprint(completion.usage)"
   ]
  },
  {
   "cell_type": "code",
   "execution_count": 20,
   "id": "4d7ecf34-cfb1-4391-8bc6-5a186b5ba61b",
   "metadata": {},
   "outputs": [],
   "source": [
    "if verbose:\n",
    "    pprint(completion.choices[0].message)"
   ]
  },
  {
   "cell_type": "code",
   "execution_count": 21,
   "id": "63b9e389-8239-4f6d-ae54-31b5287283ca",
   "metadata": {},
   "outputs": [],
   "source": [
    "if verbose:\n",
    "    pprint(completion.choices[0].message.content)"
   ]
  },
  {
   "cell_type": "code",
   "execution_count": 22,
   "id": "b4ddeb0d-96fe-4672-b73a-15e2f32c2bf6",
   "metadata": {},
   "outputs": [],
   "source": [
    "'''Message content is not empty.'''\n",
    "if verbose:\n",
    "    pprint(completion.choices[0].message.role)"
   ]
  },
  {
   "cell_type": "code",
   "execution_count": 23,
   "id": "a5676e40-d38c-4100-b202-229a58e24b95",
   "metadata": {},
   "outputs": [],
   "source": [
    "if verbose:\n",
    "    print('messages =')\n",
    "    pprint(messages)\n",
    "    print('')\n",
    "    print('Type =\\n', type(completion.model_dump()))\n",
    "    print('')\n",
    "    print('chat completion dump =')\n",
    "    pprint(completion.model_dump())"
   ]
  },
  {
   "cell_type": "code",
   "execution_count": 24,
   "id": "3b94273c-71dc-498c-a501-60be6fc8d70e",
   "metadata": {},
   "outputs": [
    {
     "name": "stdout",
     "output_type": "stream",
     "text": [
      "total_tokens= 403\n"
     ]
    }
   ],
   "source": [
    "print('total_tokens=', completion.usage.total_tokens)"
   ]
  },
  {
   "cell_type": "markdown",
   "id": "fdda6b24-9d18-4d77-99f3-6d39d98800d0",
   "metadata": {},
   "source": [
    "## Extract Structured Response"
   ]
  },
  {
   "cell_type": "code",
   "execution_count": 27,
   "id": "3a6f0c59-6584-49cb-b5ed-98c9b1cfbec9",
   "metadata": {},
   "outputs": [
    {
     "name": "stdout",
     "output_type": "stream",
     "text": [
      "Answer:\n",
      " We accept Visa, Mastercard, American Express, PayPal, and Apple Pay. All payments are processed securely through our encrypted payment system.\n",
      "\n",
      "Source = 3\n"
     ]
    }
   ],
   "source": [
    "try:\n",
    "    final_reply = completion.choices[0].message.parsed\n",
    "    print('Answer:\\n', final_reply.answer)\n",
    "    print('')\n",
    "    print('Source =', final_reply.source)\n",
    "except:\n",
    "    print(completion.choices[0].message.content)"
   ]
  },
  {
   "cell_type": "code",
   "execution_count": null,
   "id": "280a4fc2-eb7f-4651-b80c-9b0c2f1fe928",
   "metadata": {},
   "outputs": [],
   "source": []
  }
 ],
 "metadata": {
  "kernelspec": {
   "display_name": "Python 3 (ipykernel)",
   "language": "python",
   "name": "python3"
  },
  "language_info": {
   "codemirror_mode": {
    "name": "ipython",
    "version": 3
   },
   "file_extension": ".py",
   "mimetype": "text/x-python",
   "name": "python",
   "nbconvert_exporter": "python",
   "pygments_lexer": "ipython3",
   "version": "3.11.11"
  }
 },
 "nbformat": 4,
 "nbformat_minor": 5
}
